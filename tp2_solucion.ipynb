{
 "cells": [
  {
   "cell_type": "code",
   "execution_count": null,
   "metadata": {},
   "outputs": [],
   "source": [
    "import random\n",
    "ganancias = [10, 1, 10] # Suponemos que la energia baja de a 1, es decir e_0 = 10, e_1 = 9\n",
    "\n",
    "# Opt(j) = max( opt(j-1) + min(s_{j-1} - 1, G[j]), opt(j-2) + min(s_1, G[j] ) )\n",
    "\n",
    "\n",
    "def obtener_solucion(ganancias, energia_inicial):\n",
    "    energia = energia_inicial\n",
    "\n",
    "    a = [ (min( energia_inicial, ganancias[0]), energia_inicial )] # Voy a guardar la energia con la que es tomada\n",
    "\n",
    "    # Veo si la sumatoria tomando en cuenta la energia (por eso los minimos) es mayor a tomar el segundo elemento con la energia renovada\n",
    "    if min(energia, ganancias [1]) >= min(energia_inicial, ganancias[0]) + min(energia_inicial - 1, ganancias[1]):\n",
    "        a.append( ( min(energia, ganancias[1]), energia ) )\n",
    "    else:\n",
    "        a.append( ( min(energia_inicial, ganancias[0]) + min(energia_inicial - 1, ganancias[1]), energia - 1) )\n",
    "\n",
    "    print(f'a vale: {a}')\n",
    "    for i in range(2, len(ganancias)):\n",
    "        tomo_dia = a[i-1][0] + min(a[i-1][1] - 1, ganancias[i])\n",
    "        no_tomo_dia = a[i-2][0] + min(energia_inicial, ganancias[i])\n",
    "        if tomo_dia > no_tomo_dia:\n",
    "            a.append( ( tomo_dia, a[i-1][1] - 1) ) # Agrego el valor y le resto uno a la energia\n",
    "        else:\n",
    "            a.append( (no_tomo_dia, energia_inicial ) )\n",
    "    return a\n",
    "\n",
    "e = random.randint(1, 10)\n",
    "print(e)\n",
    "# ganancias = [1,5,4]\n",
    "# ganancias = [random.randint(1, 4) for _ in range(0,3)]\n",
    "# ganancias = [10, 1, 10] # Suponemos que la energia baja de a 1, es decir e_0 = 10, e_1 = 9\n",
    "ganancias = [random.randint(1, 10) for _ in range(0,4)]\n",
    "print(f'La lista es: {ganancias}')\n",
    "print(obtener_solucion(ganancias, e))"
   ]
  }
 ],
 "metadata": {
  "language_info": {
   "name": "python"
  }
 },
 "nbformat": 4,
 "nbformat_minor": 2
}
